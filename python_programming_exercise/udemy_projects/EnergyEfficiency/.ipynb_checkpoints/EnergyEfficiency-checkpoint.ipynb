{
 "cells": [
  {
   "cell_type": "markdown",
   "metadata": {},
   "source": [
    "Building a model for predicting the energy efficiency of the building"
   ]
  },
  {
   "cell_type": "code",
   "execution_count": 1,
   "metadata": {},
   "outputs": [],
   "source": [
    "#pip installed library\n",
    "import numpy as np \n",
    "import pandas as pd \n",
    "import matplotlib.pyplot as plt\n",
    "import seaborn as sns"
   ]
  },
  {
   "cell_type": "code",
   "execution_count": null,
   "metadata": {},
   "outputs": [],
   "source": [
    "#load the dataset\n",
    "dataset=pd.read_excel('ENB2012_data.xlsx')\n",
    "print(dataset.shape)\n",
    "print(dataset.head())"
   ]
  },
  {
   "cell_type": "code",
   "execution_count": null,
   "metadata": {},
   "outputs": [],
   "source": [
    "#dependent and independent variable\n",
    "target=['y1','y2']\n",
    "columns=[c for c in dataset.columns.tolist() if c not in target]"
   ]
  },
  {
   "cell_type": "code",
   "execution_count": null,
   "metadata": {},
   "outputs": [],
   "source": [
    "# Probability density estimates of dependent and independent using histogram\n",
    "pointer=1\n",
    "fig1 = plt.figure()\n",
    "fig1.subplots_adjust(hspace=0.6, wspace=0.4)\n",
    "fig1.suptitle(\"Probability density estimates of input variables using histograms \", fontsize=14)\n",
    "for i in columns:\n",
    "        ax = fig1.add_subplot(4, 2, pointer)\n",
    "        pointer+=1\n",
    "        \n",
    "        plt.ylabel('frequency')\n",
    "        plt.xlabel(i)\n",
    "        # print(dataset[i])\n",
    "        dataset[i].hist()\n",
    "plt.show()       \n",
    "\n",
    "\n",
    "fig2 = plt.figure()\n",
    "fig2.subplots_adjust(hspace=0.6, wspace=0.4)\n",
    "fig2.suptitle('Probability density estimates of output variables using histograms' , fontsize=14)\n",
    "pointer=1\n",
    "for i in target:\n",
    "        ax = fig2.add_subplot(2, 1, pointer)\n",
    "        pointer+=1\n",
    "        plt.ylabel('frequency')\n",
    "        plt.xlabel(i)\n",
    "        # print(dataset[i])\n",
    "        dataset[i].hist()\n",
    "plt.show()  "
   ]
  },
  {
   "cell_type": "code",
   "execution_count": null,
   "metadata": {},
   "outputs": [],
   "source": [
    "Scattered plot for target variable y1,y2\n",
    "for i in target:\n",
    "    counter=1\n",
    "    fig=plt.figure()\n",
    "    fig.subplots_adjust(hspace=0.6, wspace=0.4)\n",
    "    fig.suptitle('Scattered plot wrt {}'.format(i),fontsize=14)\n",
    "    for j in columns:\n",
    "        ax = fig.add_subplot(4, 2, counter)\n",
    "        plt.xlabel(j)\n",
    "        plt.ylabel(i)\n",
    "        counter+=1\n",
    "        plt.scatter(dataset[j],dataset[i])\n",
    "    plt.show()"
   ]
  },
  {
   "cell_type": "code",
   "execution_count": null,
   "metadata": {},
   "outputs": [],
   "source": [
    "#Corelation matrix\n",
    "corrmat=dataset.corr(method='spearman')\n",
    "fig=plt.figure(figsize=(12,9))\n",
    "sns.heatmap(corrmat,vmax=1.0,square=True,annot=True)\n",
    "plt.show()"
   ]
  },
  {
   "cell_type": "code",
   "execution_count": null,
   "metadata": {},
   "outputs": [],
   "source": [
    "# Regression algorithm\n",
    "from sklearn import tree ,model_selection\n",
    "from sklearn.linear_model import LinearRegression\n",
    "from sklearn.svm import SVR\n",
    "from sklearn.ensemble import RandomForestRegressor\n",
    "from sklearn.metrics import mutual_info_score,mean_absolute_error"
   ]
  },
  {
   "cell_type": "code",
   "execution_count": null,
   "metadata": {},
   "outputs": [],
   "source": [
    "dtc=tree.DecisionTreeRegressor(criterion='mse',min_samples_split=2,min_samples_leaf=20)\n",
    "lr=LinearRegression()\n",
    "rfr=RandomForestRegressor()"
   ]
  }
 ],
 "metadata": {
  "kernelspec": {
   "display_name": "Python 3",
   "language": "python",
   "name": "python3"
  },
  "language_info": {
   "codemirror_mode": {
    "name": "ipython",
    "version": 3
   },
   "file_extension": ".py",
   "mimetype": "text/x-python",
   "name": "python",
   "nbconvert_exporter": "python",
   "pygments_lexer": "ipython3",
   "version": "3.6.5"
  }
 },
 "nbformat": 4,
 "nbformat_minor": 2
}
